{
 "cells": [
  {
   "cell_type": "code",
   "execution_count": 1,
   "id": "2afd3339",
   "metadata": {},
   "outputs": [],
   "source": [
    "from x3py import x3logging as x3l\n",
    "from x3py import utils as x3u\n",
    "from x3py import data as x3d\n",
    "import glob\n",
    "import tifffile as tiff\n",
    "import numpy as np\n",
    "import SimpleITK as sitk\n",
    "\n",
    "def readTIFVOL(path):\n",
    "    FileList = glob.glob(path  + \"/*.tiff\")\n",
    "    FileList.sort()\n",
    "    if not len(FileList):\n",
    "        x3l.logger.error(\"No data found!\")\n",
    "        return 0\n",
    "    \n",
    "    datavol = []\n",
    "    \n",
    "    for e in FileList:\n",
    "        with tiff.TiffFile(e) as tif:\n",
    "            datavol.append(tif.pages[0].asarray())\n",
    "    return np.array(datavol)\n",
    "\n",
    "\n",
    "def saveTIFVOL(datavol, path, filename):\n",
    "    for i, image in enumerate(datavol):\n",
    "        print(image)\n",
    "        filename = path + filename + f\"_{i}.tiff\"\n",
    "        tiff.imwrite(filename, image)\n",
    "        #x3l.logger.info(filename, \"written on disk\")"
   ]
  },
  {
   "cell_type": "code",
   "execution_count": 2,
   "id": "adab0baf",
   "metadata": {},
   "outputs": [],
   "source": [
    "epoints = 20\n",
    "prefix = \"/local/data/alberto/P-1C_\"\n",
    "\n",
    "def getFolderList(prefix,epoints):\n",
    "    \"\"\"\n",
    "    folder_list[0]: Reference dataset.\n",
    "    folder_list[1:]: Datasets to be registered\n",
    "    \"\"\"\n",
    "    folder_list = glob.glob(prefix + \"*\")\n",
    "    folder_list.sort()\n",
    "    \n",
    "    #To avoid errors in case of files\n",
    "    for el in folder_list:\n",
    "        if os.path.isdir(el):\n",
    "            pass\n",
    "        else:\n",
    "            folder_list.remove(el)\n",
    "    \n",
    "    if not len(folder_list):\n",
    "        x3l.logger.error(\"No data found!\")\n",
    "        return 0\n",
    "    else:\n",
    "        return folder_list[0], folder_list[1:]\n",
    "\n",
    "\n",
    "ref_path, mov_paths = getFolderList(prefix,epoints)"
   ]
  },
  {
   "cell_type": "code",
   "execution_count": null,
   "id": "16acb8ed",
   "metadata": {},
   "outputs": [],
   "source": []
  },
  {
   "cell_type": "code",
   "execution_count": null,
   "id": "5780591d",
   "metadata": {},
   "outputs": [],
   "source": []
  },
  {
   "cell_type": "code",
   "execution_count": null,
   "id": "1535ed35",
   "metadata": {},
   "outputs": [],
   "source": []
  },
  {
   "cell_type": "code",
   "execution_count": 16,
   "id": "597d782a",
   "metadata": {},
   "outputs": [],
   "source": [
    "def register(ar_fxd,ar_mov):\n",
    "\n",
    "    R = sitk.ImageRegistrationMethod()\n",
    "    R.SetMetricAsMeanSquares()\n",
    "    R.SetMetricSamplingStrategy(R.RANDOM)\n",
    "    R.SetMetricSamplingPercentage(0.01)\n",
    "    R.SetOptimizerAsRegularStepGradientDescent(4, 0.01, 100)\n",
    "    R.SetInitialTransform(sitk.TranslationTransform(ar_fxd.GetDimension()))#initial_transform)#\n",
    "    R.SetInterpolator(sitk.sitkLinear)\n",
    "\n",
    "    R.AddCommand(sitk.sitkIterationEvent, lambda: self.command_iteration(R))\n",
    "\n",
    "    outTx = R.Execute(ar_fxd, ar_mov)\n",
    "\n",
    "    #Put it out in a logger\n",
    "    x3l.logger.info(\"-------\")\n",
    "    x3l.logger.info(outTx)\n",
    "    x3l.logger.info(f\"Optimizer stop condition: {R.GetOptimizerStopConditionDescription()}\")\n",
    "    x3l.logger.info(f\" Iteration: {R.GetOptimizerIteration()}\")\n",
    "    x3l.logger.info(f\" Metric value: {R.GetMetricValue()}\")\n",
    "\n",
    "    resampler = sitk.ResampleImageFilter()\n",
    "    resampler.SetReferenceImage(ar_fxd)\n",
    "    resampler.SetInterpolator(sitk.sitkLinear)\n",
    "    resampler.SetDefaultPixelValue(1.0)\n",
    "    resampler.SetTransform(outTx)\n",
    "    #print(self.moving_tmp_nocrop.shape)\n",
    "    #self.moving_tmp_nocrop = sitk.GetImageFromArray(self.moving_tmp)\n",
    "    out = resampler.Execute(ar_mov)\n",
    "    out = np.reshape(out, [200,600,600])\n",
    "    out = out.astype('float32')\n",
    "    return out, R\n",
    "\n",
    "\n",
    "\n",
    "import h5py\n",
    "def writeh5REG(file_name,buff, energy,*args):\n",
    "    \"\"\"\n",
    "    Write a HDF5 file. Minimal data structure compatible with tomography reconstructions.\n",
    "    \"\"\"\n",
    "    with h5py.File(file_name,'w') as f:\n",
    "        a = f.create_group('exchange')\n",
    "        a.create_dataset('data',data=buff,dtype='float32')\n",
    "        b = f.create_group('processing')\n",
    "        c = b.create_group('registration')\n",
    "        b.create_dataset('energy',data=energy,dtype='float32')\n",
    "        if len(args) != 0:\n",
    "            R = args[0]\n",
    "            b.create_dataset('IsRef',data=False)   \n",
    "            c.create_dataset('OptimizerStopConditionDescription', \\\n",
    "                        data=args[0].GetOptimizerStopConditionDescription())#,dtype='float32')\n",
    "            c.create_dataset('Iteration',data=R.GetOptimizerIteration())#,dtype='float32') \n",
    "        else:\n",
    "            b.create_dataset('IsRef',data=True)    \n",
    "        \n",
    "#writeh5REG(\"/local/data/alberto/TEST_REG/test_reg0.h5\",out, 6.44,R)\n",
    "\n",
    "import multiprocessing as mp\n",
    "from contextlib import closing\n",
    "def distribute_jobs(func,proj):\n",
    "    \"\"\"\n",
    "    Distribute a func over proj on different cores\n",
    "    \"\"\"\n",
    "    args = []\n",
    "    pool_size = int(mp.cpu_count()/2)\n",
    "    chunk_size = int((len(proj) - 1) / pool_size + 1)\n",
    "    pool_size = int(len(proj) / chunk_size + 1)\n",
    "    for m in range(pool_size):\n",
    "        ind_start = int(m * chunk_size)\n",
    "        ind_end = (m + 1) * chunk_size\n",
    "        if ind_start >= int(len(proj)):\n",
    "            break\n",
    "        if ind_end > len(proj):\n",
    "            ind_end = int(len(proj))\n",
    "        args += [range(ind_start, ind_end)]\n",
    "    #mp.set_start_method('fork')\n",
    "    with closing(mp.Pool(processes=pool_size)) as p:\n",
    "        out = p.map_async(func, proj)\n",
    "    out.get()\n",
    "    p.close()\n",
    "    p.join()"
   ]
  },
  {
   "cell_type": "code",
   "execution_count": 19,
   "id": "0f670ce1",
   "metadata": {},
   "outputs": [
    {
     "name": "stdout",
     "output_type": "stream",
     "text": [
      "Reference data: /local/data/alberto/P-1C_258_rec\n",
      "(876, 1024, 1024)\n",
      "range(0, 19)\n",
      "/local/data/alberto/P-1C_263_recReg.h5 saved\n",
      "/local/data/alberto/P-1C_265_recReg.h5 saved\n",
      "/local/data/alberto/P-1C_259_recReg.h5 saved\n",
      "/local/data/alberto/P-1C_261_recReg.h5 saved\n",
      "/local/data/alberto/P-1C_264_recReg.h5 saved\n",
      "/local/data/alberto/P-1C_262_recReg.h5 saved\n",
      "/local/data/alberto/P-1C_260_recReg.h5 saved\n",
      "/local/data/alberto/P-1C_272_recReg.h5 saved\n",
      "/local/data/alberto/P-1C_269_recReg.h5 saved\n",
      "/local/data/alberto/P-1C_268_recReg.h5 saved\n",
      "/local/data/alberto/P-1C_267_recReg.h5 saved\n",
      "/local/data/alberto/P-1C_266_recReg.h5 saved\n",
      "/local/data/alberto/P-1C_274_recReg.h5 saved\n",
      "/local/data/alberto/P-1C_271_recReg.h5 saved\n",
      "/local/data/alberto/P-1C_270_recReg.h5 saved\n",
      "/local/data/alberto/P-1C_275_recReg.h5 saved\n",
      "/local/data/alberto/P-1C_273_recReg.h5 saved\n",
      "/local/data/alberto/P-1C_277_recReg.h5 saved\n",
      "/local/data/alberto/P-1C_276_recReg.h5 saved\n"
     ]
    }
   ],
   "source": [
    "ref_data = readTIFVOL(ref_path)\n",
    "print(\"Reference data:\", ref_path)\n",
    "print(ref_data.shape)\n",
    "ref_data = ref_data[200:400,250:850,250:850]\n",
    "ar_fxd = sitk.GetImageFromArray(ref_data)\n",
    "#Save reference crop\n",
    "file_name = ref_path + \"Reg.h5\"\n",
    "writeh5REG(file_name,ref_data,0)\n",
    "\n",
    "\n",
    "enpoints = range(0,epoints-1)\n",
    "print(enpoints)\n",
    "#distribute job\n",
    "def run_reg(enpoints):\n",
    "    mov_data = readTIFVOL(mov_paths[enpoints])\n",
    "    #Crop the data & convert into sitk dataformat   \n",
    "    ar_mov = sitk.GetImageFromArray(mov_data[200:400,250:850,250:850])\n",
    "    buff, R = register(ar_fxd,ar_mov)\n",
    "    file_name = mov_paths[enpoints] + \"Reg.h5\"\n",
    "    writeh5REG(file_name,buff, enpoints,R)\n",
    "    print(file_name, \"saved\")\n",
    "\n",
    "#for i in range(0,epoints-1):\n",
    "\n",
    "    \n",
    "distribute_jobs(run_reg,enpoints)\n"
   ]
  },
  {
   "cell_type": "code",
   "execution_count": null,
   "id": "555c5ac4",
   "metadata": {},
   "outputs": [],
   "source": []
  },
  {
   "cell_type": "code",
   "execution_count": null,
   "id": "7dd585dc",
   "metadata": {},
   "outputs": [],
   "source": [
    "print(out.shape)\n",
    "      \n",
    "\n",
    "#saveTIFVOL(out,\"/local/data/alberto/TEST_REG/\",\"test_0_\")"
   ]
  },
  {
   "cell_type": "code",
   "execution_count": 20,
   "id": "4a44d258",
   "metadata": {},
   "outputs": [],
   "source": [
    "import x3py"
   ]
  },
  {
   "cell_type": "code",
   "execution_count": 53,
   "id": "cd8a312a",
   "metadata": {},
   "outputs": [],
   "source": [
    "class C:\n",
    "    def __init__(self, **kwargs):\n",
    "        vars().update(kwargs)\n",
    "        print(a,b,c)"
   ]
  },
  {
   "cell_type": "code",
   "execution_count": 54,
   "id": "30024b25",
   "metadata": {},
   "outputs": [],
   "source": [
    "def test(*params):\n",
    "    print(params)"
   ]
  },
  {
   "cell_type": "code",
   "execution_count": 55,
   "id": "86843bf3",
   "metadata": {},
   "outputs": [
    {
     "ename": "NameError",
     "evalue": "name 'a' is not defined",
     "output_type": "error",
     "traceback": [
      "\u001b[0;31m---------------------------------------------------------------------------\u001b[0m",
      "\u001b[0;31mNameError\u001b[0m                                 Traceback (most recent call last)",
      "Cell \u001b[0;32mIn[55], line 2\u001b[0m\n\u001b[1;32m      1\u001b[0m \u001b[38;5;66;03m#mylist=[23,1.1,'b']\u001b[39;00m\n\u001b[0;32m----> 2\u001b[0m tst \u001b[38;5;241m=\u001b[39m \u001b[43mC\u001b[49m\u001b[43m(\u001b[49m\u001b[43ma\u001b[49m\u001b[38;5;241;43m=\u001b[39;49m\u001b[38;5;241;43m23\u001b[39;49m\u001b[43m,\u001b[49m\u001b[43mb\u001b[49m\u001b[38;5;241;43m=\u001b[39;49m\u001b[38;5;241;43m1.1\u001b[39;49m\u001b[43m,\u001b[49m\u001b[43mc\u001b[49m\u001b[38;5;241;43m=\u001b[39;49m\u001b[38;5;124;43m'\u001b[39;49m\u001b[38;5;124;43mb\u001b[39;49m\u001b[38;5;124;43m'\u001b[39;49m\u001b[43m)\u001b[49m\n",
      "Cell \u001b[0;32mIn[53], line 4\u001b[0m, in \u001b[0;36mC.__init__\u001b[0;34m(self, **kwargs)\u001b[0m\n\u001b[1;32m      2\u001b[0m \u001b[38;5;28;01mdef\u001b[39;00m \u001b[38;5;21m__init__\u001b[39m(\u001b[38;5;28mself\u001b[39m, \u001b[38;5;241m*\u001b[39m\u001b[38;5;241m*\u001b[39mkwargs):\n\u001b[1;32m      3\u001b[0m     \u001b[38;5;28mvars\u001b[39m()\u001b[38;5;241m.\u001b[39mupdate(kwargs)\n\u001b[0;32m----> 4\u001b[0m     \u001b[38;5;28mprint\u001b[39m(\u001b[43ma\u001b[49m,b,c)\n",
      "\u001b[0;31mNameError\u001b[0m: name 'a' is not defined"
     ]
    }
   ],
   "source": [
    "\n",
    "\n",
    "#mylist=[23,1.1,'b']\n",
    "tst = C(a=23,b=1.1,c='b')"
   ]
  },
  {
   "cell_type": "code",
   "execution_count": 52,
   "id": "099782a6",
   "metadata": {},
   "outputs": [
    {
     "name": "stdout",
     "output_type": "stream",
     "text": [
      "([23, 1.1, 'b'],)\n"
     ]
    }
   ],
   "source": [
    "test(mylist)"
   ]
  },
  {
   "cell_type": "code",
   "execution_count": null,
   "id": "7f581bf0",
   "metadata": {},
   "outputs": [],
   "source": []
  }
 ],
 "metadata": {
  "kernelspec": {
   "display_name": "Python 3 (ipykernel)",
   "language": "python",
   "name": "python3"
  },
  "language_info": {
   "codemirror_mode": {
    "name": "ipython",
    "version": 3
   },
   "file_extension": ".py",
   "mimetype": "text/x-python",
   "name": "python",
   "nbconvert_exporter": "python",
   "pygments_lexer": "ipython3",
   "version": "3.11.2"
  }
 },
 "nbformat": 4,
 "nbformat_minor": 5
}
