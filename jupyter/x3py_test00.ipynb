{
 "cells": [
  {
   "cell_type": "code",
   "execution_count": 1,
   "id": "29128fec",
   "metadata": {},
   "outputs": [],
   "source": [
    "import x3py\n",
    "from x3py.config import ProInit\n",
    "from x3py.itkreg import ITKregistration"
   ]
  },
  {
   "cell_type": "code",
   "execution_count": 2,
   "id": "e8421e86",
   "metadata": {},
   "outputs": [],
   "source": [
    "#Initialize config and register\n",
    "ref_name = 'test_config.json'\n",
    "pI = ProInit(ref_name)"
   ]
  },
  {
   "cell_type": "code",
   "execution_count": 3,
   "id": "7d42f324",
   "metadata": {},
   "outputs": [
    {
     "name": "stdout",
     "output_type": "stream",
     "text": [
      "{'Create on': '2023-05-12', 'CorrectionPlane': 'XY', 'ref_name': 'P-1C_', 'maxStep': 4.0, 'minStep': 0.01, 'numberOfIterations': 200, 'relaxationFactor': 0.5, 'SetDefaultPixelValue': 1.0, 'gradientConvergenceTolerance': 1e-05, 'maximumNumberOfCorrections': 5, 'maximumNumberOfFunctionEvaluations': 1000, 'costFunctionConvergenceFactor': 10000000.0, 'transformDomainMeshSize': 8, 'sx': 0, 'ex': 0, 'sy': 0, 'ey': 0, 'SamplingStrategy': 'R.RANDOM', 'SetMetricSamplingPercentage': 0.01, 'sz': 0, 'ez': 0, 'epoints': 20, 'DataPrefix': '/local/data/alberto/P-1C_', 'learningRate': 1.0, 'convergenceMinimumValue': 1e-05, 'convergenceWindowSize': 5, 'FDreg': 0.001, 'CROP': 'False'}\n"
     ]
    }
   ],
   "source": [
    "print(pI.ReturnParameters())"
   ]
  },
  {
   "cell_type": "code",
   "execution_count": 4,
   "id": "352a7f90",
   "metadata": {},
   "outputs": [],
   "source": [
    "extra_args = [ref_name,'TranslationTransform']\n",
    "itkr = ITKregistration(extra_args, pI.ReturnParameters())"
   ]
  },
  {
   "cell_type": "code",
   "execution_count": 5,
   "id": "482b71cd",
   "metadata": {},
   "outputs": [],
   "source": [
    "import glob\n",
    "\n",
    "dic = pI.ReturnParameters()\n",
    "prefix = dic['DataPrefix']\n",
    "epoints = 20\n",
    "\n",
    "def getFolderList(prefix,epoints):\n",
    "\t\"\"\"\n",
    "\tfolder_list[0]: Reference dataset.\n",
    "\tfolder_list[1:]: Datasets to be registered\n",
    "\t\"\"\"\n",
    "\tfolder_list = glob.glob(prefix + \"*\")\n",
    "\tfolder_list.sort()\n",
    "\n",
    "\t#To avoid errors in case of files\n",
    "\tfor el in folder_list:\n",
    "\t\tif os.path.isdir(el):\n",
    "\t\t\tpass\n",
    "\t\telse:\n",
    "\t\t\tfolder_list.remove(el)\n",
    "\tif not len(folder_list):\n",
    "\t\ttry:\n",
    "\t\t\tx3l.logger.error(\"No data found!\")\n",
    "\t\texcept NameError:\n",
    "\t\t\tprint(\"No data found\")\n",
    "\t\tsys.exit(0)\n",
    "\telse:\n",
    "\t\treturn folder_list[0], folder_list[1:]"
   ]
  },
  {
   "cell_type": "code",
   "execution_count": 6,
   "id": "37db59ac",
   "metadata": {},
   "outputs": [
    {
     "name": "stdout",
     "output_type": "stream",
     "text": [
      "/local/data/alberto/P-1C_258_rec ['/local/data/alberto/P-1C_259_rec', '/local/data/alberto/P-1C_260_rec', '/local/data/alberto/P-1C_261_rec', '/local/data/alberto/P-1C_262_rec', '/local/data/alberto/P-1C_263_rec', '/local/data/alberto/P-1C_264_rec', '/local/data/alberto/P-1C_265_rec', '/local/data/alberto/P-1C_266_rec', '/local/data/alberto/P-1C_267_rec', '/local/data/alberto/P-1C_268_rec', '/local/data/alberto/P-1C_269_rec', '/local/data/alberto/P-1C_270_rec', '/local/data/alberto/P-1C_271_rec', '/local/data/alberto/P-1C_272_rec', '/local/data/alberto/P-1C_273_rec', '/local/data/alberto/P-1C_274_rec', '/local/data/alberto/P-1C_275_rec', '/local/data/alberto/P-1C_276_rec', '/local/data/alberto/P-1C_277_rec', '/local/data/alberto/P-1C_278_rec', '/local/data/alberto/P-1C_279_rec', '/local/data/alberto/P-1C_280_rec', '/local/data/alberto/P-1C_281_rec', '/local/data/alberto/P-1C_282_rec', '/local/data/alberto/P-1C_283_rec', '/local/data/alberto/P-1C_284_rec', '/local/data/alberto/P-1C_285_rec', '/local/data/alberto/P-1C_286_rec', '/local/data/alberto/P-1C_287_rec', '/local/data/alberto/P-1C_288_rec', '/local/data/alberto/P-1C_289_rec', '/local/data/alberto/P-1C_290_rec', '/local/data/alberto/P-1C_291_rec', '/local/data/alberto/P-1C_292_rec', '/local/data/alberto/P-1C_293_rec', '/local/data/alberto/P-1C_294_rec', '/local/data/alberto/P-1C_295_rec', '/local/data/alberto/P-1C_296_rec', '/local/data/alberto/P-1C_297_rec', '/local/data/alberto/P-1C_298_rec']\n"
     ]
    }
   ],
   "source": [
    "ref, paths = getFolderList(prefix,epoints)\n",
    "print(ref,paths)"
   ]
  },
  {
   "cell_type": "code",
   "execution_count": 7,
   "id": "02dbf921",
   "metadata": {},
   "outputs": [
    {
     "name": "stdout",
     "output_type": "stream",
     "text": [
      "/local/data/alberto/P-1C_\n"
     ]
    },
    {
     "name": "stderr",
     "output_type": "stream",
     "text": [
      "No traceback available to show.\n",
      "--- Logging error ---\n",
      "Traceback (most recent call last):\n",
      "  File \"/home/beams/AMITTONE/miniconda3/envs/x3py/lib/python3.11/logging/__init__.py\", line 1110, in emit\n",
      "    msg = self.format(record)\n",
      "          ^^^^^^^^^^^^^^^^^^^\n",
      "  File \"/home/beams/AMITTONE/miniconda3/envs/x3py/lib/python3.11/logging/__init__.py\", line 953, in format\n",
      "    return fmt.format(record)\n",
      "           ^^^^^^^^^^^^^^^^^^\n",
      "  File \"/home/beams/AMITTONE/miniconda3/envs/x3py/lib/python3.11/logging/__init__.py\", line 687, in format\n",
      "    record.message = record.getMessage()\n",
      "                     ^^^^^^^^^^^^^^^^^^^\n",
      "  File \"/home/beams/AMITTONE/miniconda3/envs/x3py/lib/python3.11/logging/__init__.py\", line 377, in getMessage\n",
      "    msg = msg % self.args\n",
      "          ~~~~^~~~~~~~~~~\n",
      "TypeError: not all arguments converted during string formatting\n",
      "Call stack:\n",
      "  File \"<frozen runpy>\", line 198, in _run_module_as_main\n",
      "  File \"<frozen runpy>\", line 88, in _run_code\n",
      "  File \"/home/beams/AMITTONE/miniconda3/envs/x3py/lib/python3.11/site-packages/ipykernel_launcher.py\", line 17, in <module>\n",
      "    app.launch_new_instance()\n",
      "  File \"/home/beams/AMITTONE/miniconda3/envs/x3py/lib/python3.11/site-packages/traitlets/config/application.py\", line 1043, in launch_instance\n",
      "    app.start()\n",
      "  File \"/home/beams/AMITTONE/miniconda3/envs/x3py/lib/python3.11/site-packages/ipykernel/kernelapp.py\", line 725, in start\n",
      "    self.io_loop.start()\n",
      "  File \"/home/beams/AMITTONE/miniconda3/envs/x3py/lib/python3.11/site-packages/tornado/platform/asyncio.py\", line 195, in start\n",
      "    self.asyncio_loop.run_forever()\n",
      "  File \"/home/beams/AMITTONE/miniconda3/envs/x3py/lib/python3.11/asyncio/base_events.py\", line 607, in run_forever\n",
      "    self._run_once()\n",
      "  File \"/home/beams/AMITTONE/miniconda3/envs/x3py/lib/python3.11/asyncio/base_events.py\", line 1922, in _run_once\n",
      "    handle._run()\n",
      "  File \"/home/beams/AMITTONE/miniconda3/envs/x3py/lib/python3.11/asyncio/events.py\", line 80, in _run\n",
      "    self._context.run(self._callback, *self._args)\n",
      "  File \"/home/beams/AMITTONE/miniconda3/envs/x3py/lib/python3.11/site-packages/ipykernel/kernelbase.py\", line 513, in dispatch_queue\n",
      "    await self.process_one()\n",
      "  File \"/home/beams/AMITTONE/miniconda3/envs/x3py/lib/python3.11/site-packages/ipykernel/kernelbase.py\", line 502, in process_one\n",
      "    await dispatch(*args)\n",
      "  File \"/home/beams/AMITTONE/miniconda3/envs/x3py/lib/python3.11/site-packages/ipykernel/kernelbase.py\", line 409, in dispatch_shell\n",
      "    await result\n",
      "  File \"/home/beams/AMITTONE/miniconda3/envs/x3py/lib/python3.11/site-packages/ipykernel/kernelbase.py\", line 729, in execute_request\n",
      "    reply_content = await reply_content\n",
      "  File \"/home/beams/AMITTONE/miniconda3/envs/x3py/lib/python3.11/site-packages/ipykernel/ipkernel.py\", line 422, in do_execute\n",
      "    res = shell.run_cell(\n",
      "  File \"/home/beams/AMITTONE/miniconda3/envs/x3py/lib/python3.11/site-packages/ipykernel/zmqshell.py\", line 540, in run_cell\n",
      "    return super().run_cell(*args, **kwargs)\n",
      "  File \"/home/beams/AMITTONE/miniconda3/envs/x3py/lib/python3.11/site-packages/IPython/core/interactiveshell.py\", line 3009, in run_cell\n",
      "    result = self._run_cell(\n",
      "  File \"/home/beams/AMITTONE/miniconda3/envs/x3py/lib/python3.11/site-packages/IPython/core/interactiveshell.py\", line 3064, in _run_cell\n",
      "    result = runner(coro)\n",
      "  File \"/home/beams/AMITTONE/miniconda3/envs/x3py/lib/python3.11/site-packages/IPython/core/async_helpers.py\", line 129, in _pseudo_sync_runner\n",
      "    coro.send(None)\n",
      "  File \"/home/beams/AMITTONE/miniconda3/envs/x3py/lib/python3.11/site-packages/IPython/core/interactiveshell.py\", line 3269, in run_cell_async\n",
      "    has_raised = await self.run_ast_nodes(code_ast.body, cell_name,\n",
      "  File \"/home/beams/AMITTONE/miniconda3/envs/x3py/lib/python3.11/site-packages/IPython/core/interactiveshell.py\", line 3448, in run_ast_nodes\n",
      "    if await self.run_code(code, result, async_=asy):\n",
      "  File \"/home/beams/AMITTONE/miniconda3/envs/x3py/lib/python3.11/site-packages/IPython/core/interactiveshell.py\", line 3508, in run_code\n",
      "    exec(code_obj, self.user_global_ns, self.user_ns)\n",
      "  File \"/tmp/ipykernel_914016/1802769713.py\", line 2, in <module>\n",
      "    itkr.CTREG()\n",
      "  File \"/home/beams/AMITTONE/miniconda3/envs/x3py/lib/python3.11/site-packages/x3py/itkreg.py\", line 202, in CTREG\n",
      "    x3logging.logger.info(ref_path, mov_paths)\n",
      "Message: '/local/data/alberto/P-1C_258_rec'\n",
      "Arguments: (['/local/data/alberto/P-1C_259_rec', '/local/data/alberto/P-1C_260_rec', '/local/data/alberto/P-1C_261_rec', '/local/data/alberto/P-1C_262_rec', '/local/data/alberto/P-1C_263_rec', '/local/data/alberto/P-1C_264_rec', '/local/data/alberto/P-1C_265_rec', '/local/data/alberto/P-1C_266_rec', '/local/data/alberto/P-1C_267_rec', '/local/data/alberto/P-1C_268_rec', '/local/data/alberto/P-1C_269_rec', '/local/data/alberto/P-1C_270_rec', '/local/data/alberto/P-1C_271_rec', '/local/data/alberto/P-1C_272_rec', '/local/data/alberto/P-1C_273_rec', '/local/data/alberto/P-1C_274_rec', '/local/data/alberto/P-1C_275_rec', '/local/data/alberto/P-1C_276_rec', '/local/data/alberto/P-1C_277_rec', '/local/data/alberto/P-1C_278_rec', '/local/data/alberto/P-1C_279_rec', '/local/data/alberto/P-1C_280_rec', '/local/data/alberto/P-1C_281_rec', '/local/data/alberto/P-1C_282_rec', '/local/data/alberto/P-1C_283_rec', '/local/data/alberto/P-1C_284_rec', '/local/data/alberto/P-1C_285_rec', '/local/data/alberto/P-1C_286_rec', '/local/data/alberto/P-1C_287_rec', '/local/data/alberto/P-1C_288_rec', '/local/data/alberto/P-1C_289_rec', '/local/data/alberto/P-1C_290_rec', '/local/data/alberto/P-1C_291_rec', '/local/data/alberto/P-1C_292_rec', '/local/data/alberto/P-1C_293_rec', '/local/data/alberto/P-1C_294_rec', '/local/data/alberto/P-1C_295_rec', '/local/data/alberto/P-1C_296_rec', '/local/data/alberto/P-1C_297_rec', '/local/data/alberto/P-1C_298_rec'],)\n"
     ]
    },
    {
     "ename": "SystemExit",
     "evalue": "0",
     "output_type": "error",
     "traceback": [
      "An exception has occurred, use %tb to see the full traceback.\n",
      "\u001b[0;31mSystemExit\u001b[0m\u001b[0;31m:\u001b[0m 0\n"
     ]
    },
    {
     "name": "stderr",
     "output_type": "stream",
     "text": [
      "/home/beams/AMITTONE/miniconda3/envs/x3py/lib/python3.11/site-packages/IPython/core/interactiveshell.py:3516: UserWarning: To exit: use 'exit', 'quit', or Ctrl-D.\n",
      "  warn(\"To exit: use 'exit', 'quit', or Ctrl-D.\", stacklevel=1)\n"
     ]
    }
   ],
   "source": [
    "%tb\n",
    "itkr.CTREG()"
   ]
  },
  {
   "cell_type": "code",
   "execution_count": null,
   "id": "6dc025ba",
   "metadata": {},
   "outputs": [],
   "source": []
  }
 ],
 "metadata": {
  "kernelspec": {
   "display_name": "Python 3 (ipykernel)",
   "language": "python",
   "name": "python3"
  },
  "language_info": {
   "codemirror_mode": {
    "name": "ipython",
    "version": 3
   },
   "file_extension": ".py",
   "mimetype": "text/x-python",
   "name": "python",
   "nbconvert_exporter": "python",
   "pygments_lexer": "ipython3",
   "version": "3.11.2"
  }
 },
 "nbformat": 4,
 "nbformat_minor": 5
}
