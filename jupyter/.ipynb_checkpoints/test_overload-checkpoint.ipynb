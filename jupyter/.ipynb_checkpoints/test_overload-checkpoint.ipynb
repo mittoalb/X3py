{
 "cells": [
  {
   "cell_type": "code",
   "execution_count": 11,
   "id": "cb14e6d3",
   "metadata": {},
   "outputs": [],
   "source": [
    "def test_fuc(a, *args):\n",
    "    if len(args) != 0:\n",
    "        for i in args:\n",
    "            print(i)\n",
    "    else:\n",
    "        print('here')\n",
    "        print('hello', a)"
   ]
  },
  {
   "cell_type": "code",
   "execution_count": 14,
   "id": "5f8fb67c",
   "metadata": {},
   "outputs": [
    {
     "name": "stdout",
     "output_type": "stream",
     "text": [
      "nope\n",
      "this\n",
      "is\n"
     ]
    }
   ],
   "source": [
    "test_fuc('test','nope','this','is')"
   ]
  },
  {
   "cell_type": "code",
   "execution_count": 13,
   "id": "16b79632",
   "metadata": {},
   "outputs": [
    {
     "name": "stdout",
     "output_type": "stream",
     "text": [
      "here\n",
      "hello test\n"
     ]
    }
   ],
   "source": [
    "test_fuc('test')"
   ]
  },
  {
   "cell_type": "code",
   "execution_count": null,
   "id": "81f0deee",
   "metadata": {},
   "outputs": [],
   "source": []
  }
 ],
 "metadata": {
  "kernelspec": {
   "display_name": "Python 3 (ipykernel)",
   "language": "python",
   "name": "python3"
  },
  "language_info": {
   "codemirror_mode": {
    "name": "ipython",
    "version": 3
   },
   "file_extension": ".py",
   "mimetype": "text/x-python",
   "name": "python",
   "nbconvert_exporter": "python",
   "pygments_lexer": "ipython3",
   "version": "3.11.2"
  }
 },
 "nbformat": 4,
 "nbformat_minor": 5
}
