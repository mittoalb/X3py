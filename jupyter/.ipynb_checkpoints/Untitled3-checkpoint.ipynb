{
 "cells": [
  {
   "cell_type": "code",
   "execution_count": 1,
   "id": "5d3adf7d-7079-4815-8c46-c293c31bbf12",
   "metadata": {},
   "outputs": [],
   "source": [
    "def kinetic_energy(m:'in KG', v:'in M/S')->'Joules': \n",
    "    return 1/2*m*v**2"
   ]
  },
  {
   "cell_type": "code",
   "execution_count": 2,
   "id": "27047dab-d7b8-45b8-abea-ae36957af913",
   "metadata": {},
   "outputs": [
    {
     "data": {
      "text/plain": [
       "500.0"
      ]
     },
     "execution_count": 2,
     "metadata": {},
     "output_type": "execute_result"
    }
   ],
   "source": [
    "kinetic_energy(10,10)"
   ]
  },
  {
   "cell_type": "code",
   "execution_count": 3,
   "id": "750f9c70-61ce-421d-9cbb-c699b70a6600",
   "metadata": {},
   "outputs": [
    {
     "name": "stdout",
     "output_type": "stream",
     "text": [
      "Help on function kinetic_energy in module __main__:\n",
      "\n",
      "kinetic_energy(m: 'in KG', v: 'in M/S') -> 'Joules'\n",
      "\n"
     ]
    }
   ],
   "source": [
    "help(kinetic_energy)"
   ]
  },
  {
   "cell_type": "code",
   "execution_count": 4,
   "id": "2b729371-5393-4747-b22d-85fe173d3c0b",
   "metadata": {},
   "outputs": [
    {
     "data": {
      "text/plain": [
       "{'m': 'in KG', 'v': 'in M/S', 'return': 'Joules'}"
      ]
     },
     "execution_count": 4,
     "metadata": {},
     "output_type": "execute_result"
    }
   ],
   "source": [
    "kinetic_energy.__annotations__"
   ]
  },
  {
   "cell_type": "code",
   "execution_count": 5,
   "id": "2f879054-dd9e-48fb-b72f-88bb4da810f0",
   "metadata": {},
   "outputs": [],
   "source": [
    "def test_annotation() -> bool:\n",
    "    print('here')"
   ]
  },
  {
   "cell_type": "code",
   "execution_count": 8,
   "id": "15654011-961d-4b91-befa-4c02de372c5d",
   "metadata": {},
   "outputs": [
    {
     "ename": "TypeError",
     "evalue": "test_annotation() takes 0 positional arguments but 1 was given",
     "output_type": "error",
     "traceback": [
      "\u001b[0;31m---------------------------------------------------------------------------\u001b[0m",
      "\u001b[0;31mTypeError\u001b[0m                                 Traceback (most recent call last)",
      "Cell \u001b[0;32mIn[8], line 1\u001b[0m\n\u001b[0;32m----> 1\u001b[0m \u001b[43mtest_annotation\u001b[49m\u001b[43m(\u001b[49m\u001b[38;5;241;43m0\u001b[39;49m\u001b[43m)\u001b[49m\n",
      "\u001b[0;31mTypeError\u001b[0m: test_annotation() takes 0 positional arguments but 1 was given"
     ]
    }
   ],
   "source": [
    "test_annotation()"
   ]
  },
  {
   "cell_type": "code",
   "execution_count": null,
   "id": "c6c9e58f-5274-4ef3-b844-2a82daab2eae",
   "metadata": {},
   "outputs": [],
   "source": []
  }
 ],
 "metadata": {
  "kernelspec": {
   "display_name": "Python 3 (ipykernel)",
   "language": "python",
   "name": "python3"
  },
  "language_info": {
   "codemirror_mode": {
    "name": "ipython",
    "version": 3
   },
   "file_extension": ".py",
   "mimetype": "text/x-python",
   "name": "python",
   "nbconvert_exporter": "python",
   "pygments_lexer": "ipython3",
   "version": "3.11.2"
  }
 },
 "nbformat": 4,
 "nbformat_minor": 5
}
