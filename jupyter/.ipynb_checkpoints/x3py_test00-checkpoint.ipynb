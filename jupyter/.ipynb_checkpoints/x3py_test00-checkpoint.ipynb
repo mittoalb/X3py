{
 "cells": [
  {
   "cell_type": "code",
   "execution_count": 13,
   "id": "75787f62",
   "metadata": {},
   "outputs": [],
   "source": [
    "import x3py\n",
    "from x3py.config import ProInit\n",
    "from x3py.itkreg import ITKregistration"
   ]
  },
  {
   "cell_type": "code",
   "execution_count": 14,
   "id": "b9472a60",
   "metadata": {},
   "outputs": [],
   "source": [
    "#Initialize config and register\n",
    "ref_name = 'test_config.json'\n",
    "pI = ProInit(ref_name)"
   ]
  },
  {
   "cell_type": "code",
   "execution_count": 15,
   "id": "95324499",
   "metadata": {},
   "outputs": [
    {
     "name": "stdout",
     "output_type": "stream",
     "text": [
      "{'Create on': '2023-05-12', 'CorrectionPlane': 'XY', 'ref_name': 'P-1C_', 'maxStep': 4.0, 'minStep': 0.01, 'numberOfIterations': 200, 'relaxationFactor': 0.5, 'SetDefaultPixelValue': 1.0, 'gradientConvergenceTolerance': 1e-05, 'maximumNumberOfCorrections': 5, 'maximumNumberOfFunctionEvaluations': 1000, 'costFunctionConvergenceFactor': 10000000.0, 'transformDomainMeshSize': 8, 'sx': 0, 'ex': 0, 'sy': 0, 'ey': 0, 'SamplingStrategy': 'R.RANDOM', 'SetMetricSamplingPercentage': 0.01, 'sz': 0, 'ez': 0, 'epoints': 20, 'DataPrefix': '/local/data/alberto/P-1C_', 'learningRate': 1.0, 'convergenceMinimumValue': 1e-05, 'convergenceWindowSize': 5, 'FDreg': 0.001}\n"
     ]
    }
   ],
   "source": [
    "print(pI.ReturnParameters())"
   ]
  },
  {
   "cell_type": "code",
   "execution_count": 17,
   "id": "927b213c",
   "metadata": {},
   "outputs": [
    {
     "ename": "NameError",
     "evalue": "name 'extra_args' is not defined",
     "output_type": "error",
     "traceback": [
      "\u001b[0;31m---------------------------------------------------------------------------\u001b[0m",
      "\u001b[0;31mNameError\u001b[0m                                 Traceback (most recent call last)",
      "Cell \u001b[0;32mIn[17], line 1\u001b[0m\n\u001b[0;32m----> 1\u001b[0m itkr \u001b[38;5;241m=\u001b[39m ITKregistration(\u001b[43mextra_args\u001b[49m, pI\u001b[38;5;241m.\u001b[39mReturnParameters())\n",
      "\u001b[0;31mNameError\u001b[0m: name 'extra_args' is not defined"
     ]
    }
   ],
   "source": [
    "extra_args = [ref_name,]\n",
    "\n",
    "\n",
    "\n",
    "itkr = ITKregistration(extra_args, pI.ReturnParameters())"
   ]
  },
  {
   "cell_type": "code",
   "execution_count": null,
   "id": "9b86eb88",
   "metadata": {},
   "outputs": [],
   "source": []
  }
 ],
 "metadata": {
  "kernelspec": {
   "display_name": "Python 3 (ipykernel)",
   "language": "python",
   "name": "python3"
  },
  "language_info": {
   "codemirror_mode": {
    "name": "ipython",
    "version": 3
   },
   "file_extension": ".py",
   "mimetype": "text/x-python",
   "name": "python",
   "nbconvert_exporter": "python",
   "pygments_lexer": "ipython3",
   "version": "3.11.2"
  }
 },
 "nbformat": 4,
 "nbformat_minor": 5
}
