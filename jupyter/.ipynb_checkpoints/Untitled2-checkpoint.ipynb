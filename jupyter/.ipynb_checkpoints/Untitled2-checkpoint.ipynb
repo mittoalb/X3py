{
 "cells": [
  {
   "cell_type": "code",
   "execution_count": 1,
   "id": "ba68455b",
   "metadata": {},
   "outputs": [
    {
     "name": "stderr",
     "output_type": "stream",
     "text": [
      "astropy module not found\n",
      "olefile module not found\n"
     ]
    }
   ],
   "source": [
    "# Open a tiff or h5 file in ImageJ by loading it to memory in several threads\n",
    "######################################################################################\n",
    "# Installation:\n",
    "\n",
    "# 1. conda create -n pyimagej -c conda-forge pyimagej openjdk=8 scyjava dxchange h5py ipython\n",
    "# 2. conda activate pyimagej\n",
    "#######################################################################################\n",
    "# Test:\n",
    "\n",
    "# (pyimagej) usertxm@txmthree ~/vnikitin $ ipython -i parallel_read_to_imagej.py \n",
    "\n",
    "# In [1]: read_h5('/local/ssd/data/tmp_rec/usbat_sshc_pam_spot2_926_rec.h5')\n",
    "# nproc=8, load time 15.498464107513428, load speed 2445.4036049692586MB/s\n",
    "\n",
    "# In [2]: read_tiff('/local/ssd/data/tmp_rec/usbat_sshc_pam_spot2_926_rec/recon_00000.tiff')\n",
    "# nproc=8, load time 13.721449136734009, load speed 2762.0989315579673MB/s\n",
    "\n",
    "# In [3]: read_h5('/local/ssd/data/tmp_rec/usbat_sshc_pam_spot2_926_rec.h5',1)\n",
    "# nproc=1, load time 42.046916246414185, load speed 901.3740693345653MB/s\n",
    "\n",
    "# In [4]: read_tiff('/local/ssd/data/tmp_rec/usbat_sshc_pam_spot2_926_rec/recon_00000.tiff',1)\n",
    "# nproc=1, load time 50.877564907073975, load speed 744.9255888960679MB/s\n",
    "##################################################################\n",
    "\n",
    "import imagej\n",
    "import scyjava\n",
    "import time\n",
    "import dxchange\n",
    "import h5py\n",
    "import threading\n",
    "import os\n",
    "import numpy as np\n",
    "\n",
    "\n",
    "\n",
    "def read_h5_chunk(rec, fid, k, lchunk):\n",
    "    \"\"\"Read a chunk of data from h5\"\"\"\n",
    "    st = k*lchunk\n",
    "    end = min((k+1)*lchunk,rec.shape[0])\n",
    "    rec[st:end] = fid[st:end]  \n",
    "\n",
    "def read_tiff_chunk(rec, fname, k, lchunk):\n",
    "    \"\"\"Read a chunk of data from tiff\"\"\"\n",
    "    st = k*lchunk\n",
    "    end = min((k+1)*lchunk,rec.shape[0])\n",
    "    rec[st:end] = dxchange.read_tiff_stack(fname,ind=range(st,end))\n",
    "\n",
    "def read_h5(fname,nproc=8):\n",
    "    t = time.time()\n",
    "    with h5py.File(fname,'r') as fid:\n",
    "        nz,n = fid['exchange/recon'].shape[:2]\n",
    "        dtype = fid['exchange/recon'].dtype\n",
    "        rec = np.zeros([nz,n,n], dtype=dtype)\n",
    "        lchunk = int(np.ceil(nz/nproc))\n",
    "        procs = []\n",
    "        for k in range(nproc):\n",
    "            read_proc = threading.Thread(\n",
    "                target=read_h5_chunk, args=(rec, fid['exchange/recon'], k, lchunk))\n",
    "            procs.append(read_proc)\n",
    "            read_proc.start()\n",
    "        for proc in procs:\n",
    "            proc.join()\n",
    "    tt = time.time()\n",
    "    print(f'Load time {tt-t}')\n",
    "    print(f'{nproc=}, load time {tt-t}, load speed {nz*n*n*4/(tt-t)/1024/1024}MB/s')\n",
    "\n",
    "\n",
    "    ij.ui().show('recon', ij.py.to_dataset(rec))\n",
    "\n",
    "def read_tiff(fname,nproc=8):\n",
    "    t = time.time()\n",
    "        \n",
    "    tiff_file_list = sorted(\n",
    "            list(filter(lambda x: x.endswith(('.tif', '.tiff')), os.listdir(os.path.dirname(fname)))))        \n",
    "    z_start = int(tiff_file_list[0].split('.')[0].split('_')[1])        \n",
    "    z_end = int(tiff_file_list[-1].split('.')[0].split('_')[1]) + 1        \n",
    "    d = dxchange.read_tiff(fname)\n",
    "    n = d.shape[-1]\n",
    "    nz = z_end- z_start\n",
    "    rec = np.zeros([nz,n,n], dtype=d.dtype)\n",
    "    lchunk = int(np.ceil(nz/nproc))\n",
    "    procs = []\n",
    "    for k in range(nproc):\n",
    "        read_proc = threading.Thread(\n",
    "            target=read_tiff_chunk, args=(rec, fname, k, lchunk))\n",
    "        procs.append(read_proc)\n",
    "        read_proc.start()\n",
    "    for proc in procs:\n",
    "        proc.join()\n",
    "    \n",
    "    tt = time.time()\n",
    "    print(f'{nproc=}, load time {tt-t}, load speed {nz*n*n*4/(tt-t)/1024/1024}MB/s')\n",
    "\n",
    "    ij.ui().show('recon', ij.py.to_dataset(rec))"
   ]
  },
  {
   "cell_type": "code",
   "execution_count": 9,
   "id": "a3ff5107",
   "metadata": {},
   "outputs": [
    {
     "name": "stderr",
     "output_type": "stream",
     "text": [
      "[java.lang.Enum.toString] [INFO] Populating metadata\n",
      "[java.lang.Enum.toString] [INFO] Populating metadata\n",
      "[java.lang.Enum.toString] [INFO] Populating metadata\n",
      "[java.lang.Enum.toString] [INFO] Populating metadata\n",
      "[java.lang.Enum.toString] [INFO] Populating metadata\n"
     ]
    },
    {
     "ename": "TypeError",
     "evalue": "only size-1 arrays can be converted to Python scalars",
     "output_type": "error",
     "traceback": [
      "\u001b[0;31m---------------------------------------------------------------------------\u001b[0m",
      "\u001b[0;31mTypeError\u001b[0m                                 Traceback (most recent call last)",
      "Cell \u001b[0;32mIn[9], line 18\u001b[0m\n\u001b[1;32m     16\u001b[0m \u001b[38;5;66;03m# start UI\u001b[39;00m\n\u001b[1;32m     17\u001b[0m ij\u001b[38;5;241m.\u001b[39mui()\u001b[38;5;241m.\u001b[39mshowUI()\n\u001b[0;32m---> 18\u001b[0m \u001b[43mij\u001b[49m\u001b[38;5;241;43m.\u001b[39;49m\u001b[43mui\u001b[49m\u001b[43m(\u001b[49m\u001b[43m)\u001b[49m\u001b[38;5;241;43m.\u001b[39;49m\u001b[43mshow\u001b[49m\u001b[43m(\u001b[49m\u001b[43mimage\u001b[49m\u001b[43m,\u001b[49m\u001b[43m \u001b[49m\u001b[43mcmap\u001b[49m\u001b[38;5;241;43m=\u001b[39;49m\u001b[38;5;124;43m'\u001b[39;49m\u001b[38;5;124;43mgray\u001b[39;49m\u001b[38;5;124;43m'\u001b[39;49m\u001b[43m)\u001b[49m\n",
      "File \u001b[0;32m~/miniconda3/envs/x3py/lib/python3.11/site-packages/xarray/core/common.py:156\u001b[0m, in \u001b[0;36mAbstractArray.__float__\u001b[0;34m(self)\u001b[0m\n\u001b[1;32m    155\u001b[0m \u001b[38;5;28;01mdef\u001b[39;00m \u001b[38;5;21m__float__\u001b[39m(\u001b[38;5;28mself\u001b[39m: Any) \u001b[38;5;241m-\u001b[39m\u001b[38;5;241m>\u001b[39m \u001b[38;5;28mfloat\u001b[39m:\n\u001b[0;32m--> 156\u001b[0m     \u001b[38;5;28;01mreturn\u001b[39;00m \u001b[38;5;28;43mfloat\u001b[39;49m\u001b[43m(\u001b[49m\u001b[38;5;28;43mself\u001b[39;49m\u001b[38;5;241;43m.\u001b[39;49m\u001b[43mvalues\u001b[49m\u001b[43m)\u001b[49m\n",
      "\u001b[0;31mTypeError\u001b[0m: only size-1 arrays can be converted to Python scalars"
     ]
    }
   ],
   "source": [
    "scyjava.config.add_option('-Xmx512g')# limit memory\n",
    "\n",
    "\n",
    "\n",
    "ij = imagej.init('/home/beams/AMITTONE/Software/fiji-linux64/Fiji.app',mode='interactive')\n",
    "ij.ui().showUI() # if you want to display the GUI immediately\n",
    "from jpype import JClass\n",
    "WindowManager = JClass('ij.WindowManager')\n",
    "\n",
    "image_url = 'https://imagej.net/images/clown.jpg'\n",
    "jimage = ij.io().open(image_url)\n",
    "\n",
    "# Convert the image from ImageJ2 to xarray, a package that adds\n",
    "# labeled datasets to numpy (http://xarray.pydata.org/en/stable/).\n",
    "#image = ij.py.from_java(jimage)\n",
    "# start UI\n",
    "ij.ui().showUI()\n",
    "ij.ui().show(jimage, cmap='gray')"
   ]
  },
  {
   "cell_type": "code",
   "execution_count": 3,
   "id": "8b4f6cd2",
   "metadata": {},
   "outputs": [
    {
     "data": {
      "text/plain": [
       "<function imagej.init(ij_dir_or_version_or_endpoint=None, mode: Union[imagej.Mode, str] = <Mode.HEADLESS: 'headless'>, add_legacy=True, headless=None)>"
      ]
     },
     "execution_count": 3,
     "metadata": {},
     "output_type": "execute_result"
    }
   ],
   "source": [
    "imagej.init"
   ]
  },
  {
   "cell_type": "code",
   "execution_count": 4,
   "id": "c59c41d6",
   "metadata": {},
   "outputs": [
    {
     "ename": "AttributeError",
     "evalue": "'_jpype._JMethod' object has no attribute 'showUI'",
     "output_type": "error",
     "traceback": [
      "\u001b[0;31m---------------------------------------------------------------------------\u001b[0m",
      "\u001b[0;31mAttributeError\u001b[0m                            Traceback (most recent call last)",
      "Cell \u001b[0;32mIn[4], line 1\u001b[0m\n\u001b[0;32m----> 1\u001b[0m \u001b[43mij\u001b[49m\u001b[38;5;241;43m.\u001b[39;49m\u001b[43mui\u001b[49m\u001b[38;5;241;43m.\u001b[39;49m\u001b[43mshowUI\u001b[49m()\n",
      "\u001b[0;31mAttributeError\u001b[0m: '_jpype._JMethod' object has no attribute 'showUI'"
     ]
    }
   ],
   "source": [
    "ij.ui.showUI()"
   ]
  },
  {
   "cell_type": "code",
   "execution_count": null,
   "id": "6fbd61f7",
   "metadata": {},
   "outputs": [],
   "source": []
  }
 ],
 "metadata": {
  "kernelspec": {
   "display_name": "Python 3 (ipykernel)",
   "language": "python",
   "name": "python3"
  },
  "language_info": {
   "codemirror_mode": {
    "name": "ipython",
    "version": 3
   },
   "file_extension": ".py",
   "mimetype": "text/x-python",
   "name": "python",
   "nbconvert_exporter": "python",
   "pygments_lexer": "ipython3",
   "version": "3.11.2"
  }
 },
 "nbformat": 4,
 "nbformat_minor": 5
}
