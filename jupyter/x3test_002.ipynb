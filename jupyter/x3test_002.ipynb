{
 "cells": [
  {
   "cell_type": "code",
   "execution_count": 1,
   "id": "d42ee60c",
   "metadata": {},
   "outputs": [
    {
     "name": "stderr",
     "output_type": "stream",
     "text": [
      "INFO:x3py.config:Initialization ProInit\n",
      "\n",
      "INFO:x3py.config:Reading config.json\n",
      "\n",
      "INFO:x3py.x3reg:Initialization ITKregister\n",
      "\n"
     ]
    }
   ],
   "source": [
    "import x3py\n",
    "from x3py.config import ProInit\n",
    "from x3py.x3reg import ITKregistration\n",
    "from x3py.reg_methods import BSplineTransformInitializer1\n",
    "import json\n",
    "from x3py.utils import json_2_tree\n",
    "\n",
    "#Initialize config and register\n",
    "ref_name = 'test_config.json'\n",
    "pI = ProInit(ref_name)\n",
    "\n",
    "extra_args = [ref_name,'ITKCustom']\n",
    "\n",
    "itkr = ITKregistration(extra_args, pI.ReturnParameters())"
   ]
  },
  {
   "cell_type": "code",
   "execution_count": 2,
   "id": "09144dfb",
   "metadata": {},
   "outputs": [
    {
     "data": {
      "text/plain": [
       "['BSplineTransformInitializer1',\n",
       " 'BSplineTransformInitializer2',\n",
       " 'DemonsRegistration1',\n",
       " 'DemonsRegistration2',\n",
       " 'Displacement1',\n",
       " 'OptimizerWeights',\n",
       " 'TranslationTransform',\n",
       " 'TranslationTransformJHM',\n",
       " '__builtins__',\n",
       " '__cached__',\n",
       " '__doc__',\n",
       " '__file__',\n",
       " '__loader__',\n",
       " '__name__',\n",
       " '__package__',\n",
       " '__spec__',\n",
       " 'sitk',\n",
       " 'sys',\n",
       " 'x3l',\n",
       " 'x3logging']"
      ]
     },
     "execution_count": 2,
     "metadata": {},
     "output_type": "execute_result"
    }
   ],
   "source": [
    "dir(x3py.reg_methods)"
   ]
  },
  {
   "cell_type": "code",
   "execution_count": 6,
   "id": "3b21fec0",
   "metadata": {
    "scrolled": true
   },
   "outputs": [
    {
     "name": "stdout",
     "output_type": "stream",
     "text": [
      "removing /local/data/alberto/Mn-1P/Mn_P_1C_734.h5\n",
      "removing /local/data/alberto/Mn-1P/Mn_P_1C_736.h5\n",
      "removing /local/data/alberto/Mn-1P/Mn_P_1C_737.h5\n",
      "removing /local/data/alberto/Mn-1P/Mn_P_1C_738.h5\n",
      "removing /local/data/alberto/Mn-1P/Mn_P_1C_739.h5\n",
      "removing /local/data/alberto/Mn-1P/Mn_P_1C_740.h5\n",
      "removing /local/data/alberto/Mn-1P/Mn_P_1C_741.h5\n",
      "removing /local/data/alberto/Mn-1P/Mn_P_1C_742.h5\n",
      "removing /local/data/alberto/Mn-1P/Mn_P_1C_743.h5\n",
      "removing /local/data/alberto/Mn-1P/Mn_P_1C_744.h5\n",
      "removing /local/data/alberto/Mn-1P/Mn_P_1C_745.h5\n",
      "removing /local/data/alberto/Mn-1P/Mn_P_1C_746.h5\n",
      "removing /local/data/alberto/Mn-1P/Mn_P_1C_747.h5\n",
      "removing /local/data/alberto/Mn-1P/Mn_P_1C_748.h5\n",
      "removing /local/data/alberto/Mn-1P/Mn_P_1C_749.h5\n",
      "removing /local/data/alberto/Mn-1P/Mn_P_1C_750.h5\n",
      "removing /local/data/alberto/Mn-1P/Mn_P_1C_751.h5\n",
      "removing /local/data/alberto/Mn-1P/Mn_P_1C_752.h5\n",
      "removing /local/data/alberto/Mn-1P/Mn_P_1C_753.h5\n",
      "############################################\n",
      "['/local/data/alberto/Mn-1P/Mn_P_1C_735.h5', '/local/data/alberto/Mn-1P/Mn_P_1C_735_rec', '/local/data/alberto/Mn-1P/Mn_P_1C_736_rec', '/local/data/alberto/Mn-1P/Mn_P_1C_737_rec', '/local/data/alberto/Mn-1P/Mn_P_1C_738_rec', '/local/data/alberto/Mn-1P/Mn_P_1C_739_rec', '/local/data/alberto/Mn-1P/Mn_P_1C_740_rec', '/local/data/alberto/Mn-1P/Mn_P_1C_741_rec', '/local/data/alberto/Mn-1P/Mn_P_1C_742_rec', '/local/data/alberto/Mn-1P/Mn_P_1C_743_rec', '/local/data/alberto/Mn-1P/Mn_P_1C_744_rec', '/local/data/alberto/Mn-1P/Mn_P_1C_745_rec', '/local/data/alberto/Mn-1P/Mn_P_1C_746_rec', '/local/data/alberto/Mn-1P/Mn_P_1C_747_rec', '/local/data/alberto/Mn-1P/Mn_P_1C_748_rec', '/local/data/alberto/Mn-1P/Mn_P_1C_749_rec', '/local/data/alberto/Mn-1P/Mn_P_1C_750_rec', '/local/data/alberto/Mn-1P/Mn_P_1C_751_rec', '/local/data/alberto/Mn-1P/Mn_P_1C_752_rec', '/local/data/alberto/Mn-1P/Mn_P_1C_753_rec']\n",
      "False\n"
     ]
    },
    {
     "name": "stderr",
     "output_type": "stream",
     "text": [
      "--- Logging error ---\n",
      "Traceback (most recent call last):\n",
      "  File \"/home/beams/AMITTONE/miniconda3/envs/x3py/lib/python3.11/logging/__init__.py\", line 1110, in emit\n",
      "    msg = self.format(record)\n",
      "          ^^^^^^^^^^^^^^^^^^^\n",
      "  File \"/home/beams/AMITTONE/miniconda3/envs/x3py/lib/python3.11/logging/__init__.py\", line 953, in format\n",
      "    return fmt.format(record)\n",
      "           ^^^^^^^^^^^^^^^^^^\n",
      "  File \"/home/beams/AMITTONE/miniconda3/envs/x3py/lib/python3.11/logging/__init__.py\", line 687, in format\n",
      "    record.message = record.getMessage()\n",
      "                     ^^^^^^^^^^^^^^^^^^^\n",
      "  File \"/home/beams/AMITTONE/miniconda3/envs/x3py/lib/python3.11/logging/__init__.py\", line 377, in getMessage\n",
      "    msg = msg % self.args\n",
      "          ~~~~^~~~~~~~~~~\n",
      "TypeError: not all arguments converted during string formatting\n",
      "Call stack:\n",
      "  File \"<frozen runpy>\", line 198, in _run_module_as_main\n",
      "  File \"<frozen runpy>\", line 88, in _run_code\n",
      "  File \"/home/beams/AMITTONE/miniconda3/envs/x3py/lib/python3.11/site-packages/ipykernel_launcher.py\", line 17, in <module>\n",
      "    app.launch_new_instance()\n",
      "  File \"/home/beams/AMITTONE/miniconda3/envs/x3py/lib/python3.11/site-packages/traitlets/config/application.py\", line 1043, in launch_instance\n",
      "    app.start()\n",
      "  File \"/home/beams/AMITTONE/miniconda3/envs/x3py/lib/python3.11/site-packages/ipykernel/kernelapp.py\", line 725, in start\n",
      "    self.io_loop.start()\n",
      "  File \"/home/beams/AMITTONE/miniconda3/envs/x3py/lib/python3.11/site-packages/tornado/platform/asyncio.py\", line 195, in start\n",
      "    self.asyncio_loop.run_forever()\n",
      "  File \"/home/beams/AMITTONE/miniconda3/envs/x3py/lib/python3.11/asyncio/base_events.py\", line 607, in run_forever\n",
      "    self._run_once()\n",
      "  File \"/home/beams/AMITTONE/miniconda3/envs/x3py/lib/python3.11/asyncio/base_events.py\", line 1922, in _run_once\n",
      "    handle._run()\n",
      "  File \"/home/beams/AMITTONE/miniconda3/envs/x3py/lib/python3.11/asyncio/events.py\", line 80, in _run\n",
      "    self._context.run(self._callback, *self._args)\n",
      "  File \"/home/beams/AMITTONE/miniconda3/envs/x3py/lib/python3.11/site-packages/ipykernel/kernelbase.py\", line 513, in dispatch_queue\n",
      "    await self.process_one()\n",
      "  File \"/home/beams/AMITTONE/miniconda3/envs/x3py/lib/python3.11/site-packages/ipykernel/kernelbase.py\", line 502, in process_one\n",
      "    await dispatch(*args)\n",
      "  File \"/home/beams/AMITTONE/miniconda3/envs/x3py/lib/python3.11/site-packages/ipykernel/kernelbase.py\", line 409, in dispatch_shell\n",
      "    await result\n",
      "  File \"/home/beams/AMITTONE/miniconda3/envs/x3py/lib/python3.11/site-packages/ipykernel/kernelbase.py\", line 729, in execute_request\n",
      "    reply_content = await reply_content\n",
      "  File \"/home/beams/AMITTONE/miniconda3/envs/x3py/lib/python3.11/site-packages/ipykernel/ipkernel.py\", line 422, in do_execute\n",
      "    res = shell.run_cell(\n",
      "  File \"/home/beams/AMITTONE/miniconda3/envs/x3py/lib/python3.11/site-packages/ipykernel/zmqshell.py\", line 540, in run_cell\n",
      "    return super().run_cell(*args, **kwargs)\n",
      "  File \"/home/beams/AMITTONE/miniconda3/envs/x3py/lib/python3.11/site-packages/IPython/core/interactiveshell.py\", line 3009, in run_cell\n",
      "    result = self._run_cell(\n",
      "  File \"/home/beams/AMITTONE/miniconda3/envs/x3py/lib/python3.11/site-packages/IPython/core/interactiveshell.py\", line 3064, in _run_cell\n",
      "    result = runner(coro)\n",
      "  File \"/home/beams/AMITTONE/miniconda3/envs/x3py/lib/python3.11/site-packages/IPython/core/async_helpers.py\", line 129, in _pseudo_sync_runner\n",
      "    coro.send(None)\n",
      "  File \"/home/beams/AMITTONE/miniconda3/envs/x3py/lib/python3.11/site-packages/IPython/core/interactiveshell.py\", line 3269, in run_cell_async\n",
      "    has_raised = await self.run_ast_nodes(code_ast.body, cell_name,\n",
      "  File \"/home/beams/AMITTONE/miniconda3/envs/x3py/lib/python3.11/site-packages/IPython/core/interactiveshell.py\", line 3448, in run_ast_nodes\n",
      "    if await self.run_code(code, result, async_=asy):\n",
      "  File \"/home/beams/AMITTONE/miniconda3/envs/x3py/lib/python3.11/site-packages/IPython/core/interactiveshell.py\", line 3508, in run_code\n",
      "    exec(code_obj, self.user_global_ns, self.user_ns)\n",
      "  File \"/tmp/ipykernel_1163317/1605445995.py\", line 16, in <module>\n",
      "    pI.updateParameters(contents)\n",
      "  File \"/home/beams/AMITTONE/miniconda3/envs/x3py/lib/python3.11/site-packages/x3py/config.py\", line 142, in updateParameters\n",
      "    x3l.info(self.Json_name, \"written\")\n",
      "Message: 'test_config.json'\n",
      "Arguments: ('written',)\n"
     ]
    }
   ],
   "source": [
    "#Get default dictionary\n",
    "contents = pI.ReturnParameters()\n",
    "    \n",
    "contents['sx'] = 418    \n",
    "contents['ex'] = 1234\n",
    "contents['sy'] = 472   \n",
    "contents['ey'] = 1092\n",
    "contents['sz'] = 90    \n",
    "contents['ez'] = 752    \n",
    "contents['DataPrefix'] = '/local/data/alberto/Mn-1P/Mn_P_1C_'\n",
    "\n",
    "\n",
    "contents['Start_energy']=6.5495\n",
    "contents['EndEnergy']=6.559\n",
    "\n",
    "pI.updateParameters(contents)\n",
    "\n",
    "import glob\n",
    "folder_list = glob.glob(contents['DataPrefix'] + \"*\")\n",
    "folder_list.sort()\n",
    "\n",
    "#print(folder_list)\n",
    "#To avoid errors in case of files\n",
    "for el in folder_list:\n",
    "    if os.path.isdir(el):\n",
    "        pass\n",
    "    else:\n",
    "        print('removing', el)\n",
    "        folder_list.remove(el)\n",
    "print(\"############################################\")\n",
    "print(folder_list)\n",
    "print(os.path.isdir('/local/data/alberto/Mn-1P/Mn_P_1C_735.h5'))\n",
    "#print(json_2_tree(contents))"
   ]
  },
  {
   "cell_type": "code",
   "execution_count": 4,
   "id": "2a16fadb",
   "metadata": {},
   "outputs": [
    {
     "name": "stdout",
     "output_type": "stream",
     "text": [
      "Help on function BSplineTransformInitializer1 in module x3py.reg_methods:\n",
      "\n",
      "BSplineTransformInitializer1(fx_ar, mv_ar, par)\n",
      "    Parameters\n",
      "    ----------\n",
      "    par : parameters dictionary\n",
      "            DESCRIPTION.\n",
      "    fx_ar : reference volume\n",
      "            sitk array.\n",
      "    mv_ar : volume to be aligned\n",
      "            sitk array.\n",
      "            \n",
      "    Dictinoary:\n",
      "            \n",
      "    par['gradientConvergenceTolerance'] = 1e-5\n",
      "    par['numberOfIterations']= 100\n",
      "    par['maximumNumberOfCorrections']= 5\n",
      "    par['maximumNumberOfFunctionEvaluations']= 1000\n",
      "    par['costFunctionConvergenceFactor']= 1e7\n",
      "    par['SetDefaultPixelValue'] = 1\n",
      "    \n",
      "    Returns\n",
      "    -------\n",
      "    TYPE\n",
      "            registered volume.\n",
      "            numpy array\n",
      "    \n",
      "    Reference:\n",
      "    SimpleITK\n",
      "    https://simpleitk.readthedocs.io/en/master/link_ImageRegistrationMethodBSpline1_docs.html\n",
      "\n"
     ]
    }
   ],
   "source": [
    "help(x3py.reg_methods.BSplineTransformInitializer1)"
   ]
  },
  {
   "cell_type": "code",
   "execution_count": null,
   "id": "98192f92",
   "metadata": {},
   "outputs": [],
   "source": []
  },
  {
   "cell_type": "code",
   "execution_count": 5,
   "id": "79cad82d",
   "metadata": {},
   "outputs": [
    {
     "name": "stderr",
     "output_type": "stream",
     "text": [
      "ERROR:x3py.data:No data found!\n"
     ]
    },
    {
     "name": "stdout",
     "output_type": "stream",
     "text": [
      "{'Created on': '2023-05-12', 'CorrectionPlane': 'XY', 'ref_name': 'RefName', 'maxStep': 4.0, 'minStep': 0.01, 'numberOfIterations': 100, 'relaxationFactor': 0.5, 'SetDefaultPixelValue': 1, 'gradientConvergenceTolerance': 1e-05, 'maximumNumberOfCorrections': 5, 'maximumNumberOfFunctionEvaluations': 1000, 'costFunctionConvergenceFactor': 10000000.0, 'transformDomainMeshSize': 8, 'sx': 418, 'ex': 1234, 'sy': 472, 'ey': 1092, 'SamplingStrategy': 'R.RANDOM', 'SetMetricSamplingPercentage': 0.01, 'CROP': True, 'sz': 90, 'ez': 752, 'epoints': 20, 'DataPrefix': '/local/data/alberto/Mn-1P/Mn_P_1C_', 'learningRate': 1.0, 'convergenceMinimumValue': 1e-05, 'convergenceWindowSize': 5, 'FDreg': 0.001, 'Start_energy': 6.5495, 'EndEnergy': 6.559}\n"
     ]
    },
    {
     "ename": "SystemExit",
     "evalue": "0",
     "output_type": "error",
     "traceback": [
      "An exception has occurred, use %tb to see the full traceback.\n",
      "\u001b[0;31mSystemExit\u001b[0m\u001b[0;31m:\u001b[0m 0\n"
     ]
    },
    {
     "name": "stderr",
     "output_type": "stream",
     "text": [
      "/home/beams/AMITTONE/miniconda3/envs/x3py/lib/python3.11/site-packages/IPython/core/interactiveshell.py:3516: UserWarning: To exit: use 'exit', 'quit', or Ctrl-D.\n",
      "  warn(\"To exit: use 'exit', 'quit', or Ctrl-D.\", stacklevel=1)\n"
     ]
    }
   ],
   "source": [
    "#Read custom registration function\n",
    "#params = [20,1.0,100]\n",
    "\n",
    "#Input parameterss\n",
    "par = {}\n",
    "par['gradientConvergenceTolerance'] = 1e-5\n",
    "par['numberOfIterations']= 100\n",
    "par['maximumNumberOfCorrections']= 5\n",
    "par['maximumNumberOfFunctionEvaluations']= 1000\n",
    "par['costFunctionConvergenceFactor']= 1e7\n",
    "par['SetDefaultPixelValue'] = 1\n",
    "\n",
    "itkr.ReadCustomITKReg(BSplineTransformInitializer1,par)\n",
    "\n",
    "\n",
    "dic = pI.ReturnParameters()\n",
    "prefix = dic['DataPrefix']\n",
    "epoints = 20\n",
    "\n",
    "\n",
    "#ref, paths = getFolderList(prefix,epoints)\n",
    "#print(ref,paths)\n",
    "\n",
    "#For CT reconstructed images\n",
    "itkr.CTREG()"
   ]
  },
  {
   "cell_type": "code",
   "execution_count": null,
   "id": "5870cd31",
   "metadata": {},
   "outputs": [],
   "source": []
  }
 ],
 "metadata": {
  "kernelspec": {
   "display_name": "Python 3 (ipykernel)",
   "language": "python",
   "name": "python3"
  },
  "language_info": {
   "codemirror_mode": {
    "name": "ipython",
    "version": 3
   },
   "file_extension": ".py",
   "mimetype": "text/x-python",
   "name": "python",
   "nbconvert_exporter": "python",
   "pygments_lexer": "ipython3",
   "version": "3.9.16"
  }
 },
 "nbformat": 4,
 "nbformat_minor": 5
}
