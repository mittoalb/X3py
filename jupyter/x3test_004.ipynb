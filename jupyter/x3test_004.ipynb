{
 "cells": [
  {
   "cell_type": "code",
   "execution_count": 1,
   "id": "f9b74105-4cb4-4f18-b121-b689495e7a8d",
   "metadata": {},
   "outputs": [],
   "source": [
    "import napari"
   ]
  },
  {
   "cell_type": "code",
   "execution_count": 2,
   "id": "23d938b6-6e4e-41ba-b273-4b6b9c000108",
   "metadata": {},
   "outputs": [],
   "source": [
    "viewer = napari.Viewer()"
   ]
  },
  {
   "cell_type": "code",
   "execution_count": 3,
   "id": "6e12d936-f476-4bb5-b33e-c55fd3e598bd",
   "metadata": {},
   "outputs": [],
   "source": [
    "import imagej"
   ]
  },
  {
   "cell_type": "code",
   "execution_count": null,
   "id": "f45d2420-385c-4523-8a34-e4048d492552",
   "metadata": {},
   "outputs": [],
   "source": [
    "dir(imagej)"
   ]
  },
  {
   "cell_type": "code",
   "execution_count": null,
   "id": "65248931-d7f2-4b69-a801-62704e62ded5",
   "metadata": {},
   "outputs": [],
   "source": []
  }
 ],
 "metadata": {
  "kernelspec": {
   "display_name": "Python 3 (ipykernel)",
   "language": "python",
   "name": "python3"
  },
  "language_info": {
   "codemirror_mode": {
    "name": "ipython",
    "version": 3
   },
   "file_extension": ".py",
   "mimetype": "text/x-python",
   "name": "python",
   "nbconvert_exporter": "python",
   "pygments_lexer": "ipython3",
   "version": "3.9.16"
  }
 },
 "nbformat": 4,
 "nbformat_minor": 5
}
