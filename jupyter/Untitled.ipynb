{
 "cells": [
  {
   "cell_type": "code",
   "execution_count": null,
   "id": "f2d51faa",
   "metadata": {},
   "outputs": [],
   "source": [
    "def main():\n",
    "\n",
    "\tparser = argparse.ArgumentParser(description='3D Xanes Python Processing Tool')\n",
    "\tparser.add_argument('--filename', type=str, help='First file name to be processed',default='tiff')\n",
    "\tparser.add_argument('--method', type=str, help='Registration method',default='TranslationTransform')\n",
    "\tparser.add_argument('--config', type=str, help='Provide Config file',default='config.json')\n",
    "\tparser.add_argument('--log', type=str, help='Custom log file',default='x3py.log')\n",
    "\t\n",
    "\t\n",
    "\targs = parser.parse_args()"
   ]
  }
 ],
 "metadata": {
  "kernelspec": {
   "display_name": "Python 3 (ipykernel)",
   "language": "python",
   "name": "python3"
  },
  "language_info": {
   "codemirror_mode": {
    "name": "ipython",
    "version": 3
   },
   "file_extension": ".py",
   "mimetype": "text/x-python",
   "name": "python",
   "nbconvert_exporter": "python",
   "pygments_lexer": "ipython3",
   "version": "3.11.2"
  }
 },
 "nbformat": 4,
 "nbformat_minor": 5
}
